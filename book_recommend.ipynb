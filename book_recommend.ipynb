{
  "nbformat": 4,
  "nbformat_minor": 0,
  "metadata": {
    "colab": {
      "provenance": []
    },
    "kernelspec": {
      "name": "python3",
      "display_name": "Python 3"
    },
    "language_info": {
      "name": "python"
    }
  },
  "cells": [
    {
      "cell_type": "code",
      "execution_count": null,
      "metadata": {
        "id": "tZ5sck2dOCRC"
      },
      "outputs": [],
      "source": [
        "import numpy as np\n",
        "import pandas as pd\n",
        "import matplotlib.pyplot as plt\n",
        "import seaborn as sns"
      ]
    },
    {
      "cell_type": "code",
      "source": [
        "from google.colab import drive\n",
        "drive.mount('/content/drive/')"
      ],
      "metadata": {
        "colab": {
          "base_uri": "https://localhost:8080/"
        },
        "id": "YNwkHAxGTGfp",
        "outputId": "4d77d4ef-0be8-43d5-9ea9-1033b6ad9fc6"
      },
      "execution_count": null,
      "outputs": [
        {
          "output_type": "stream",
          "name": "stdout",
          "text": [
            "Mounted at /content/drive/\n"
          ]
        }
      ]
    },
    {
      "cell_type": "code",
      "source": [
        "books = pd.read_csv('/content/drive/MyDrive/Projects/Book/archive/Books.csv')\n",
        "books.head()"
      ],
      "metadata": {
        "id": "OHUs-evWTQ6E"
      },
      "execution_count": null,
      "outputs": []
    },
    {
      "cell_type": "code",
      "source": [
        "users = pd.read_csv('/content/drive/MyDrive/Projects/Book/archive/Users.csv')\n",
        "users.head()"
      ],
      "metadata": {
        "id": "3Um45kyHT-lu"
      },
      "execution_count": null,
      "outputs": []
    },
    {
      "cell_type": "code",
      "source": [
        "ratings = pd.read_csv('/content/drive/MyDrive/Projects/Book/archive/Ratings.csv')\n",
        "ratings.head()"
      ],
      "metadata": {
        "id": "itTUg13UZXA8"
      },
      "execution_count": null,
      "outputs": []
    },
    {
      "cell_type": "markdown",
      "source": [
        "# **EDA**"
      ],
      "metadata": {
        "id": "xtpSwF-EalTI"
      }
    },
    {
      "cell_type": "code",
      "source": [
        "print(books.shape)\n",
        "print(users.shape)\n",
        "print(ratings.shape)"
      ],
      "metadata": {
        "id": "IzTmLOALZiHn"
      },
      "execution_count": null,
      "outputs": []
    },
    {
      "cell_type": "code",
      "source": [
        "books.isna().sum()"
      ],
      "metadata": {
        "id": "vkMKPc4cZsCz"
      },
      "execution_count": null,
      "outputs": []
    },
    {
      "cell_type": "code",
      "source": [
        "users.isna().sum()"
      ],
      "metadata": {
        "id": "-8NADpcAZ17d"
      },
      "execution_count": null,
      "outputs": []
    },
    {
      "cell_type": "code",
      "source": [
        "ratings.isna().sum()"
      ],
      "metadata": {
        "id": "_8ES-xLmZ6fZ"
      },
      "execution_count": null,
      "outputs": []
    },
    {
      "cell_type": "code",
      "source": [
        "ratings.dtypes"
      ],
      "metadata": {
        "id": "Iahz9-N8xfnY"
      },
      "execution_count": null,
      "outputs": []
    },
    {
      "cell_type": "code",
      "source": [
        "books.dtypes"
      ],
      "metadata": {
        "id": "yArltwukx03p"
      },
      "execution_count": null,
      "outputs": []
    },
    {
      "cell_type": "code",
      "source": [
        "books['Image-URL-L'].fillna(books['Image-URL-L'].mode(), inplace=True)"
      ],
      "metadata": {
        "id": "BiUmbJ2JaxQj"
      },
      "execution_count": null,
      "outputs": []
    },
    {
      "cell_type": "code",
      "source": [
        "books['Publisher'].fillna(books['Publisher'].mode(), inplace=True)"
      ],
      "metadata": {
        "id": "N16gEV88bSTr"
      },
      "execution_count": null,
      "outputs": []
    },
    {
      "cell_type": "code",
      "source": [
        "books['Book-Title'].fillna(books['Book-Title'].mode(), inplace=True)"
      ],
      "metadata": {
        "id": "G1c1kW5SbS7p"
      },
      "execution_count": null,
      "outputs": []
    },
    {
      "cell_type": "code",
      "source": [
        "users['Age'].fillna(users['Age'].mean(), inplace=True)"
      ],
      "metadata": {
        "id": "v6SFfhAtbhSN"
      },
      "execution_count": null,
      "outputs": []
    },
    {
      "cell_type": "code",
      "source": [
        "ratings['Book-Rating'].fillna(ratings['Book-Rating'].mean(), inplace=True)"
      ],
      "metadata": {
        "id": "gZN6Sn11w0cQ"
      },
      "execution_count": null,
      "outputs": []
    },
    {
      "cell_type": "code",
      "source": [
        "ratings['Book-Rating'].replace('006250746X006250746X006250746X006250746X006250746X006250746X006250746X006250746X006250746X006250746X',0,inplace = True)"
      ],
      "metadata": {
        "id": "gBddcZkmw_-L"
      },
      "execution_count": null,
      "outputs": []
    },
    {
      "cell_type": "code",
      "source": [
        "books.isna().sum()"
      ],
      "metadata": {
        "id": "WbW17Z9wbqoz"
      },
      "execution_count": null,
      "outputs": []
    },
    {
      "cell_type": "code",
      "source": [
        "users.isna().sum()"
      ],
      "metadata": {
        "id": "aakRMB-nbwg5"
      },
      "execution_count": null,
      "outputs": []
    },
    {
      "cell_type": "code",
      "source": [
        "books.duplicated().sum()"
      ],
      "metadata": {
        "id": "gPgHZYmJZ-cO"
      },
      "execution_count": null,
      "outputs": []
    },
    {
      "cell_type": "code",
      "source": [
        "books.describe()"
      ],
      "metadata": {
        "id": "LiWphh19anjg"
      },
      "execution_count": null,
      "outputs": []
    },
    {
      "cell_type": "markdown",
      "source": [
        "# **Correlation matrix**"
      ],
      "metadata": {
        "id": "lsBpy97ab2px"
      }
    },
    {
      "cell_type": "code",
      "source": [
        "# plt.figure(figsize=(10, 8))\n",
        "# sns.heatmap(users.corr(), annot=True, cmap='coolwarm')\n",
        "# plt.show()"
      ],
      "metadata": {
        "id": "wnm2DCdgb9BE"
      },
      "execution_count": null,
      "outputs": []
    },
    {
      "cell_type": "code",
      "source": [
        "# plt.figure(figsize=(10, 8))\n",
        "# sns.heatmap(ratings .corr(), annot=True, cmap='coolwarm')\n",
        "# plt.show()"
      ],
      "metadata": {
        "id": "TEqoGbjIb-hu"
      },
      "execution_count": null,
      "outputs": []
    },
    {
      "cell_type": "markdown",
      "source": [
        "# **Merge two dfs**"
      ],
      "metadata": {
        "id": "YVDl_O9EuvSJ"
      }
    },
    {
      "cell_type": "code",
      "source": [
        "merge_df = ratings.merge(books, on='ISBN')"
      ],
      "metadata": {
        "id": "84bB6_foaEWp"
      },
      "execution_count": null,
      "outputs": []
    },
    {
      "cell_type": "code",
      "source": [
        "merge_df.head()"
      ],
      "metadata": {
        "id": "zX-IWWTiu21D"
      },
      "execution_count": null,
      "outputs": []
    },
    {
      "cell_type": "markdown",
      "source": [
        "# **Collaborative based**"
      ],
      "metadata": {
        "id": "Xyx-RaA53FpT"
      }
    },
    {
      "cell_type": "code",
      "source": [
        "temp = merge_df.groupby('User-ID').count()['Book-Rating'] > 200\n",
        "rated_users = temp[temp].index"
      ],
      "metadata": {
        "id": "qOs--y4D2fZ1"
      },
      "execution_count": null,
      "outputs": []
    },
    {
      "cell_type": "code",
      "source": [
        "merge_df['User-ID'].isin(rated_users)\n",
        "filtered_rating = merge_df[merge_df['User-ID'].isin(rated_users)]"
      ],
      "metadata": {
        "id": "N_O8sp0h36Ms"
      },
      "execution_count": null,
      "outputs": []
    },
    {
      "cell_type": "code",
      "source": [
        "filtered_rating.shape"
      ],
      "metadata": {
        "id": "9T5GKB294uv2"
      },
      "execution_count": null,
      "outputs": []
    },
    {
      "cell_type": "code",
      "source": [
        "y = filtered_rating.groupby('Book-Title').count()['Book-Rating'] >= 50\n",
        "popular_books = y[y].index"
      ],
      "metadata": {
        "id": "9X_mMpCD4xyv"
      },
      "execution_count": null,
      "outputs": []
    },
    {
      "cell_type": "code",
      "source": [
        "filtered_rating['Book-Title'].isin(popular_books)\n",
        "final_ratings = filtered_rating[filtered_rating['Book-Title'].isin(popular_books)]"
      ],
      "metadata": {
        "id": "pJOO8MxD492_"
      },
      "execution_count": null,
      "outputs": []
    },
    {
      "cell_type": "code",
      "source": [
        "final_ratings.drop_duplicates"
      ],
      "metadata": {
        "id": "3LkkJxo_5P-W"
      },
      "execution_count": null,
      "outputs": []
    },
    {
      "cell_type": "code",
      "source": [
        "final_ratings.shape"
      ],
      "metadata": {
        "id": "HHLp_6YR5ToO"
      },
      "execution_count": null,
      "outputs": []
    },
    {
      "cell_type": "code",
      "source": [
        "fr = final_ratings.pivot_table(index='Book-Title',columns='User-ID',values='Book-Rating')\n",
        "fr.fillna(0,inplace = True)"
      ],
      "metadata": {
        "id": "dj7LQGYi5byL"
      },
      "execution_count": null,
      "outputs": []
    },
    {
      "cell_type": "code",
      "source": [
        "fr"
      ],
      "metadata": {
        "id": "Yj2exYsd5je3"
      },
      "execution_count": null,
      "outputs": []
    },
    {
      "cell_type": "code",
      "source": [
        "from sklearn.metrics.pairwise import cosine_similarity"
      ],
      "metadata": {
        "id": "K0CXh6rW6c-8"
      },
      "execution_count": null,
      "outputs": []
    },
    {
      "cell_type": "code",
      "source": [
        "similarity_score = cosine_similarity(fr)"
      ],
      "metadata": {
        "id": "1PZ6CNWw6fDL"
      },
      "execution_count": null,
      "outputs": []
    },
    {
      "cell_type": "code",
      "source": [
        "fr"
      ],
      "metadata": {
        "id": "Z4fSqnWsbOOS"
      },
      "execution_count": null,
      "outputs": []
    },
    {
      "cell_type": "code",
      "source": [
        "similarity_score[0]"
      ],
      "metadata": {
        "id": "M0pAVhLT6l1p"
      },
      "execution_count": null,
      "outputs": []
    },
    {
      "cell_type": "code",
      "source": [
        "def recommend(book_name):\n",
        "  book_index = np.where(fr.index==book_name)[0][0]\n",
        "  distances = similarity_score[book_index]\n",
        "  similar_items = sorted(list(enumerate(distances)),key=lambda x:x[1],reverse=True)[1:6]\n",
        "\n",
        "  for i in similar_items:\n",
        "    print(fr.index[i[0]])"
      ],
      "metadata": {
        "id": "SR1ce3Mc6n_r"
      },
      "execution_count": null,
      "outputs": []
    },
    {
      "cell_type": "code",
      "source": [
        "recommend('Message in a Bottle')"
      ],
      "metadata": {
        "id": "Pk1Ft8E88AUC"
      },
      "execution_count": null,
      "outputs": []
    },
    {
      "cell_type": "code",
      "source": [
        "recommend('1984')"
      ],
      "metadata": {
        "id": "lZQs7xkY8D21"
      },
      "execution_count": null,
      "outputs": []
    },
    {
      "cell_type": "code",
      "source": [
        "import pickle\n",
        "pickle.dump(final_ratings,open('final_ratings.pkl','wb'))"
      ],
      "metadata": {
        "id": "iKR_HPgBTJAp"
      },
      "execution_count": null,
      "outputs": []
    },
    {
      "cell_type": "code",
      "source": [],
      "metadata": {
        "id": "7dMce8HhaKbz"
      },
      "execution_count": null,
      "outputs": []
    }
  ]
}